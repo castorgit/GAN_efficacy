{
 "cells": [
  {
   "cell_type": "code",
   "execution_count": 1,
   "id": "ff536984",
   "metadata": {},
   "outputs": [],
   "source": [
    "# XGBOOST example > 90%"
   ]
  },
  {
   "cell_type": "code",
   "execution_count": null,
   "id": "2c125355",
   "metadata": {},
   "outputs": [],
   "source": [
    "from xgboost import XGBClassifier\n",
    "from sklearn.model_selection import train_test_split\n",
    "from sklearn.metrics import accuracy_score\n",
    "from sklearn.metrics import mean_squared_error\n",
    "import xgboost as xgb\n",
    "import seaborn as sns\n",
    "import pandas as pd\n",
    "import numpy as np\n",
    "from pandas import nan"
   ]
  },
  {
   "cell_type": "code",
   "execution_count": 2,
   "id": "5bf188b5",
   "metadata": {},
   "outputs": [],
   "source": [
    "def label_marker(row):\n",
    "    if isinstance(row['marker'], str) and 'Natural' in row['marker']:\n",
    "        return 0\n",
    "    if isinstance(row['marker'], str) and 'Attack' in row['marker']:\n",
    "        return 1\n",
    "    return "
   ]
  },
  {
   "cell_type": "code",
   "execution_count": 3,
   "id": "474fff6a",
   "metadata": {},
   "outputs": [
    {
     "name": "stdout",
     "output_type": "stream",
     "text": [
      "22714\n",
      "55663\n"
     ]
    }
   ],
   "source": [
    "#path = './data/Zero_Day/'\n",
    "path = '../Autoencoders/new_data/'\n",
    "#path_normal = path +'VAE_syntheticdata_normal_epoch100_1000000.csv'\n",
    "path_normal = path +'normal.csv'\n",
    "path_attack = path + 'attack.csv' # real data\n",
    "\n",
    "normal_df = pd.read_csv(path_normal)  \n",
    "attack_df = pd.read_csv(path_attack)  \n",
    "\n",
    "normal_df['marker'] = normal_df.apply(label_marker, axis=1)\n",
    "attack_df['marker'] = attack_df.apply(label_marker, axis=1)\n",
    "\n",
    "normal_label = normal_df['marker'].to_numpy() \n",
    "attack_label = attack_df['marker'].to_numpy() \n",
    "\n",
    "print(len(normal_label))\n",
    "print(len(attack_label))"
   ]
  },
  {
   "cell_type": "code",
   "execution_count": 4,
   "id": "ba6f4aba",
   "metadata": {},
   "outputs": [],
   "source": [
    "input_df = pd.concat([normal_df, attack_df], ignore_index=True)\n",
    "input_df = input_df.sample(frac=1) # we suffle the dataframe\n",
    "\n",
    "input_df = input_df.replace([np.inf, -np.inf], 0)\n",
    "#scaler = MinMaxScaler()\n",
    "#input_df = scaler.fit_transform(input_df)\n"
   ]
  },
  {
   "cell_type": "code",
   "execution_count": 6,
   "id": "b98700b6",
   "metadata": {},
   "outputs": [
    {
     "name": "stdout",
     "output_type": "stream",
     "text": [
      " X_train shape (62701, 128) \n",
      " y_train shape (62701,) \n",
      " X_test shape (15676, 128) \n",
      " y_test shape (15676,)\n"
     ]
    }
   ],
   "source": [
    "y_col = 'marker'\n",
    "X_cols = input_df.loc[:, input_df.columns != y_col].columns\n",
    "\n",
    "from sklearn.model_selection import train_test_split\n",
    "X_train, X_test, y_train, y_test = train_test_split(input_df[X_cols], input_df[y_col],test_size=0.2, \n",
    "                                                    random_state=42)\n",
    "\n",
    "print(' X_train shape',X_train.shape, '\\n', \n",
    "      'y_train shape', y_train.shape, '\\n',\n",
    "      'X_test shape',X_test.shape, '\\n', \n",
    "      'y_test shape', y_test.shape)"
   ]
  },
  {
   "cell_type": "code",
   "execution_count": 7,
   "id": "3a5db1aa",
   "metadata": {},
   "outputs": [
    {
     "name": "stdout",
     "output_type": "stream",
     "text": [
      " Number of items class 0: 18108 \n",
      " Number of items class 1: 44593\n",
      "Imbalancing Factor:  0.4060727019935864\n"
     ]
    }
   ],
   "source": [
    "from collections import Counter\n",
    "class_counter = Counter(y_train)\n",
    "print(' Number of items class 0:', class_counter[0], '\\n',\n",
    "      'Number of items class 1:', class_counter[1])\n",
    "estimate_imbalancing = class_counter[0]/class_counter[1]\n",
    "print('Imbalancing Factor: ',estimate_imbalancing)\n"
   ]
  },
  {
   "cell_type": "code",
   "execution_count": 8,
   "id": "ba60e44c",
   "metadata": {},
   "outputs": [],
   "source": [
    "\n",
    "regressor = xgb.XGBRegressor(\n",
    "    n_estimators=3000,\n",
    "    scale_pos_weight=estimate_imbalancing,\n",
    "    reg_lambda=1,\n",
    "    gamma=0,\n",
    "    max_depth=6\n",
    ")\n",
    "\n",
    "regressor = xgb.XGBRegressor(base_score=0.5, booster='gbtree', colsample_bylevel=1,\n",
    "             colsample_bynode=1, enable_categorical=False,\n",
    "             gpu_id=-1, importance_type=None,\n",
    "             interaction_constraints='', \n",
    "             max_delta_step=0,\n",
    "             monotone_constraints='()', n_jobs=8,\n",
    "             num_parallel_tree=1, predictor='auto', random_state=0, reg_alpha=0,\n",
    "             tree_method='exact',\n",
    "             learning_rate=0.300000012,\n",
    "             validate_parameters=1, verbosity=None,\n",
    "             n_estimators=500,\n",
    "             scale_pos_weight=estimate_imbalancing,\n",
    "             reg_lambda=1,\n",
    "             colsample_bytree=0.6,\n",
    "             min_child_weight = 10,\n",
    "             gamma=0.5,\n",
    "             max_depth=5\n",
    ")\n",
    "\n",
    "regressor = xgb.XGBRegressor(base_score=0.5, booster='gbtree', colsample_bylevel=1,\n",
    "             colsample_bynode=1, colsample_bytree=1, enable_categorical=False,\n",
    "             gamma=1, gpu_id=-1, importance_type=None,\n",
    "             interaction_constraints='', learning_rate=0.30000012,\n",
    "             max_delta_step=0, max_depth=7, min_child_weight=1, missing=nan,\n",
    "             monotone_constraints='()', n_estimators=100, n_jobs=8,\n",
    "             num_parallel_tree=1, predictor='auto', random_state=123,\n",
    "             reg_alpha=0, reg_lambda=1, scale_pos_weight=0.3278456267435863,\n",
    "             subsample=1, tree_method='exact', validate_parameters=1,\n",
    "             verbosity=None)"
   ]
  },
  {
   "cell_type": "code",
   "execution_count": 9,
   "id": "ba803796",
   "metadata": {},
   "outputs": [
    {
     "data": {
      "text/plain": [
       "XGBRegressor(base_score=0.5, booster='gbtree', colsample_bylevel=1,\n",
       "             colsample_bynode=1, colsample_bytree=0.6, enable_categorical=False,\n",
       "             gamma=0.5, gpu_id=-1, importance_type=None,\n",
       "             interaction_constraints='', learning_rate=0.300000012,\n",
       "             max_delta_step=0, max_depth=5, min_child_weight=10, missing=nan,\n",
       "             monotone_constraints='()', n_estimators=500, n_jobs=8,\n",
       "             num_parallel_tree=1, predictor='auto', random_state=0, reg_alpha=0,\n",
       "             reg_lambda=1, scale_pos_weight=0.4060727019935864, subsample=1,\n",
       "             tree_method='exact', validate_parameters=1, verbosity=None)"
      ]
     },
     "execution_count": 9,
     "metadata": {},
     "output_type": "execute_result"
    }
   ],
   "source": [
    "regressor.fit(X_train, y_train,verbose=1)"
   ]
  },
  {
   "cell_type": "code",
   "execution_count": 10,
   "id": "ada38377",
   "metadata": {},
   "outputs": [
    {
     "data": {
      "text/plain": [
       "0.13751862950459726"
      ]
     },
     "execution_count": 10,
     "metadata": {},
     "output_type": "execute_result"
    }
   ],
   "source": [
    "y_pred = regressor.predict(X_test)\n",
    "mean_squared_error(y_test, y_pred)"
   ]
  },
  {
   "cell_type": "code",
   "execution_count": 11,
   "id": "dacd1817",
   "metadata": {},
   "outputs": [
    {
     "name": "stdout",
     "output_type": "stream",
     "text": [
      "Accuracy: 81.37%\n"
     ]
    }
   ],
   "source": [
    "y_pred_round = [round(value) for value in y_pred]\n",
    "accuracy = accuracy_score(y_test, y_pred_round)\n",
    "print(\"Accuracy: %.2f%%\" % (accuracy * 100.0))"
   ]
  },
  {
   "cell_type": "code",
   "execution_count": null,
   "id": "74598c36",
   "metadata": {},
   "outputs": [],
   "source": [
    "sns.pairplot(input_df.sample(10), diag_kind='kde', hue='marker')"
   ]
  },
  {
   "cell_type": "code",
   "execution_count": null,
   "id": "5726915d",
   "metadata": {},
   "outputs": [],
   "source": [
    "#EOF"
   ]
  }
 ],
 "metadata": {
  "kernelspec": {
   "display_name": "DL",
   "language": "python",
   "name": "dl"
  },
  "language_info": {
   "codemirror_mode": {
    "name": "ipython",
    "version": 3
   },
   "file_extension": ".py",
   "mimetype": "text/x-python",
   "name": "python",
   "nbconvert_exporter": "python",
   "pygments_lexer": "ipython3",
   "version": "3.8.12"
  }
 },
 "nbformat": 4,
 "nbformat_minor": 5
}
