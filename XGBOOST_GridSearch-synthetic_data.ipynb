{
 "cells": [
  {
   "cell_type": "code",
   "execution_count": 1,
   "id": "009f1cdf",
   "metadata": {},
   "outputs": [],
   "source": [
    "#hyperparameter searching"
   ]
  },
  {
   "cell_type": "code",
   "execution_count": 2,
   "id": "da71bc26",
   "metadata": {},
   "outputs": [],
   "source": [
    "import warnings\n",
    "warnings.filterwarnings('ignore')\n",
    "import numpy as np\n",
    "import pandas as pd\n",
    "from datetime import datetime\n",
    "from sklearn.model_selection import RandomizedSearchCV, GridSearchCV\n",
    "from sklearn.metrics import roc_auc_score\n",
    "from sklearn.model_selection import StratifiedKFold\n",
    "from xgboost import XGBClassifier\n",
    "\n",
    "from sklearn.model_selection import train_test_split\n",
    "from sklearn.metrics import accuracy_score\n",
    "from sklearn.metrics import mean_squared_error\n",
    "\n",
    "%matplotlib inline"
   ]
  },
  {
   "cell_type": "code",
   "execution_count": 3,
   "id": "eef547d7",
   "metadata": {},
   "outputs": [],
   "source": [
    "def timer(start_time=None):\n",
    "    if not start_time:\n",
    "        start_time = datetime.now()\n",
    "        return start_time\n",
    "    elif start_time:\n",
    "        thour, temp_sec = divmod((datetime.now() - start_time).total_seconds(), 3600)\n",
    "        tmin, tsec = divmod(temp_sec, 60)\n",
    "        print('\\n Time taken: %i hours %i minutes and %s seconds.' % (thour, tmin, round(tsec, 2)))"
   ]
  },
  {
   "cell_type": "code",
   "execution_count": 4,
   "id": "33a63f98",
   "metadata": {},
   "outputs": [],
   "source": [
    "from xgboost import XGBClassifier\n",
    "import xgboost as xgb\n",
    "from sklearn.model_selection import train_test_split\n",
    "from sklearn.metrics import accuracy_score\n",
    "from sklearn.metrics import mean_squared_error\n",
    "import glob\n",
    "from collections import Counter"
   ]
  },
  {
   "cell_type": "code",
   "execution_count": 5,
   "id": "7c9a6394",
   "metadata": {},
   "outputs": [],
   "source": [
    "path = './synthetic_data/'\n",
    "\n",
    "input_df = pd.DataFrame()\n",
    "files = glob.glob(path+\"*.csv\")\n",
    "for name in files:\n",
    "    df = pd.read_csv(name) \n",
    "    input_df = pd.concat([input_df, df], ignore_index=True)\n",
    "\n",
    "input_df = input_df.replace([np.inf, -np.inf], 0)\n",
    "input_df = input_df.sample(frac=1) # we suffle the dataframe"
   ]
  },
  {
   "cell_type": "code",
   "execution_count": 6,
   "id": "57f88d4e",
   "metadata": {},
   "outputs": [
    {
     "name": "stdout",
     "output_type": "stream",
     "text": [
      " X_train shape (1485518, 128) \n",
      " y_train shape (1485518,) \n",
      " X_test shape (371380, 128) \n",
      " y_test shape (371380,)\n"
     ]
    }
   ],
   "source": [
    "y_col = 'marker'\n",
    "X_cols = input_df.loc[:, input_df.columns != y_col].columns\n",
    "\n",
    "from sklearn.model_selection import train_test_split\n",
    "X_train, X_test, y_train, y_test = train_test_split(input_df[X_cols], input_df[y_col],test_size=0.2, \n",
    "                                                    random_state=42)\n",
    "\n",
    "print(' X_train shape',X_train.shape, '\\n', \n",
    "      'y_train shape', y_train.shape, '\\n',\n",
    "      'X_test shape',X_test.shape, '\\n', \n",
    "      'y_test shape', y_test.shape)"
   ]
  },
  {
   "cell_type": "code",
   "execution_count": 7,
   "id": "98573223",
   "metadata": {},
   "outputs": [
    {
     "name": "stdout",
     "output_type": "stream",
     "text": [
      " Number of items class 0: 366775 \n",
      " Number of items class 1: 1118743\n",
      "Imbalancing Factor:  0.3278456267435863\n"
     ]
    }
   ],
   "source": [
    "\n",
    "class_counter = Counter(y_train)\n",
    "print(' Number of items class 0:', class_counter[0], '\\n',\n",
    "      'Number of items class 1:', class_counter[1])\n",
    "estimate_imbalancing = class_counter[0]/class_counter[1]\n",
    "print('Imbalancing Factor: ',estimate_imbalancing)"
   ]
  },
  {
   "cell_type": "code",
   "execution_count": 8,
   "id": "6ce7588f",
   "metadata": {},
   "outputs": [],
   "source": [
    "# A parameter grid for XGBoost\n",
    "params = {\n",
    "        'min_child_weight': [1, 5, 10],\n",
    "        'gamma': [0.5, 1, 1.5, 2, 5],\n",
    "        'max_depth': [3, 4, 5, 6, 7, 8],\n",
    "        'booster' : ['gbtree', 'linear', 'dart'],\n",
    "        }\n",
    "#        'n_estimators': [500,1000,5000]\n",
    "#        'subsample': [0.6, 0.8, 1.0],\n",
    "#        'colsample_bytree': [0.6, 0.8, 1.0],\n",
    "#"
   ]
  },
  {
   "cell_type": "code",
   "execution_count": 9,
   "id": "f9c743e6",
   "metadata": {},
   "outputs": [],
   "source": [
    "\n",
    "XGB = xgb.XGBRegressor(base_score=0.5, \n",
    "             booster='gbtree', \n",
    "             colsample_bylevel=1,\n",
    "             colsample_bynode=1, \n",
    "             enable_categorical=False,\n",
    "             gamma=1,\n",
    "             gpu_id=-1, \n",
    "             importance_type=None,\n",
    "             interaction_constraints='', \n",
    "             learning_rate=0.30000012,\n",
    "             max_delta_step=0,\n",
    "             monotone_constraints='()', \n",
    "             n_estimators=100,\n",
    "             n_jobs=8,\n",
    "             num_parallel_tree=1, \n",
    "             predictor='auto', \n",
    "             random_state=123, \n",
    "             reg_alpha=0,\n",
    "             tree_method='exact',\n",
    "             validate_parameters=1, verbosity=None,\n",
    "             scale_pos_weight=estimate_imbalancing,\n",
    "             reg_lambda=1,\n",
    ")\n",
    "# max_depth=6"
   ]
  },
  {
   "cell_type": "code",
   "execution_count": 10,
   "id": "0735c690",
   "metadata": {},
   "outputs": [
    {
     "name": "stdout",
     "output_type": "stream",
     "text": [
      "Fitting 2 folds for each of 4 candidates, totalling 8 fits\n",
      "[CV 2/2] END booster=dart, gamma=2, max_depth=4, min_child_weight=10;, score=0.823 total time=47.3min\n",
      "[CV 1/2] END booster=dart, gamma=2, max_depth=4, min_child_weight=10;, score=0.822 total time=47.3min\n",
      "[CV 1/2] END booster=gbtree, gamma=1, max_depth=7, min_child_weight=1;, score=0.836 total time=38.5min\n",
      "[CV 1/2] END booster=linear, gamma=1, max_depth=7, min_child_weight=1;, score=nan total time=   6.5s\n",
      "[CV 1/2] END booster=gbtree, gamma=1, max_depth=6, min_child_weight=10;, score=0.834 total time=21.3min\n",
      "[CV 2/2] END booster=gbtree, gamma=1, max_depth=7, min_child_weight=1;, score=0.837 total time=38.6min\n",
      "[CV 2/2] END booster=linear, gamma=1, max_depth=7, min_child_weight=1;, score=nan total time=   5.6s\n",
      "[CV 2/2] END booster=gbtree, gamma=1, max_depth=6, min_child_weight=10;, score=0.834 total time=21.3min\n",
      "\n",
      " Time taken: 1 hours 17 minutes and 21.4 seconds.\n"
     ]
    }
   ],
   "source": [
    "folds = 2\n",
    "param_comb = 4\n",
    "\n",
    "skf = StratifiedKFold(n_splits=folds, shuffle = True, random_state = 123)\n",
    "\n",
    "random_search = RandomizedSearchCV(XGB, param_distributions=params, n_iter=param_comb, scoring='roc_auc', \n",
    "                                   n_jobs=4, cv=skf.split(X_train,y_train), verbose=3, random_state=123 )\n",
    "\n",
    "# Here we go\n",
    "start_time = timer(None) # timing starts from this point for \"start_time\" variable\n",
    "random_search.fit(X_train, y_train)\n",
    "timer(start_time) # timing ends here for \"start_time\" variable"
   ]
  },
  {
   "cell_type": "code",
   "execution_count": 11,
   "id": "7cdbcfdd",
   "metadata": {},
   "outputs": [
    {
     "name": "stdout",
     "output_type": "stream",
     "text": [
      "\n",
      " All results:\n",
      "{'mean_fit_time': array([2307.17403281, 2625.57491791,    6.06671453, 1276.87334037]), 'std_fit_time': array([4.90580881, 0.3549875 , 0.43678641, 1.88990068]), 'mean_score_time': array([  5.90558147, 214.74724531,   0.        ,   1.86570251]), 'std_score_time': array([1.50296164, 0.16980052, 0.        , 0.60828269]), 'param_min_child_weight': masked_array(data=[1, 10, 1, 10],\n",
      "             mask=[False, False, False, False],\n",
      "       fill_value='?',\n",
      "            dtype=object), 'param_max_depth': masked_array(data=[7, 4, 7, 6],\n",
      "             mask=[False, False, False, False],\n",
      "       fill_value='?',\n",
      "            dtype=object), 'param_gamma': masked_array(data=[1, 2, 1, 1],\n",
      "             mask=[False, False, False, False],\n",
      "       fill_value='?',\n",
      "            dtype=object), 'param_booster': masked_array(data=['gbtree', 'dart', 'linear', 'gbtree'],\n",
      "             mask=[False, False, False, False],\n",
      "       fill_value='?',\n",
      "            dtype=object), 'params': [{'min_child_weight': 1, 'max_depth': 7, 'gamma': 1, 'booster': 'gbtree'}, {'min_child_weight': 10, 'max_depth': 4, 'gamma': 2, 'booster': 'dart'}, {'min_child_weight': 1, 'max_depth': 7, 'gamma': 1, 'booster': 'linear'}, {'min_child_weight': 10, 'max_depth': 6, 'gamma': 1, 'booster': 'gbtree'}], 'split0_test_score': array([0.83605278, 0.82180892,        nan, 0.83359118]), 'split1_test_score': array([0.83728138, 0.82292022,        nan, 0.83398761]), 'mean_test_score': array([0.83666708, 0.82236457,        nan, 0.8337894 ]), 'std_test_score': array([0.0006143 , 0.00055565,        nan, 0.00019822]), 'rank_test_score': array([1, 3, 4, 2], dtype=int32)}\n",
      "\n",
      " Best estimator:\n",
      "XGBRegressor(base_score=0.5, booster='gbtree', colsample_bylevel=1,\n",
      "             colsample_bynode=1, colsample_bytree=1, enable_categorical=False,\n",
      "             gamma=1, gpu_id=-1, importance_type=None,\n",
      "             interaction_constraints='', learning_rate=0.30000012,\n",
      "             max_delta_step=0, max_depth=7, min_child_weight=1, missing=nan,\n",
      "             monotone_constraints='()', n_estimators=100, n_jobs=8,\n",
      "             num_parallel_tree=1, predictor='auto', random_state=123,\n",
      "             reg_alpha=0, reg_lambda=1, scale_pos_weight=0.3278456267435863,\n",
      "             subsample=1, tree_method='exact', validate_parameters=1,\n",
      "             verbosity=None)\n",
      "\n",
      " Best normalized gini score for 2-fold search with 4 parameter combinations:\n",
      "0.6733341597278915\n",
      "\n",
      " Best hyperparameters:\n",
      "{'min_child_weight': 1, 'max_depth': 7, 'gamma': 1, 'booster': 'gbtree'}\n"
     ]
    }
   ],
   "source": [
    "print('\\n All results:')\n",
    "print(random_search.cv_results_)\n",
    "print('\\n Best estimator:')\n",
    "print(random_search.best_estimator_)\n",
    "print('\\n Best normalized gini score for %d-fold search with %d parameter combinations:' % (folds, param_comb))\n",
    "print(random_search.best_score_ * 2 - 1)\n",
    "print('\\n Best hyperparameters:')\n",
    "print(random_search.best_params_)\n",
    "results = pd.DataFrame(random_search.cv_results_)\n",
    "results.to_csv('xgb-random-grid-search-results-01.csv', index=False)"
   ]
  },
  {
   "cell_type": "code",
   "execution_count": 12,
   "id": "f3cb1d9a",
   "metadata": {},
   "outputs": [
    {
     "name": "stdout",
     "output_type": "stream",
     "text": [
      "Accuracy: 74.92%\n"
     ]
    }
   ],
   "source": [
    "y_proba = random_search.predict(X_test)\n",
    "y_pred_round = [round(value) for value in y_proba]\n",
    "accuracy = accuracy_score(y_test, y_pred_round)\n",
    "print(\"Accuracy: %.2f%%\" % (accuracy * 100.0))"
   ]
  },
  {
   "cell_type": "code",
   "execution_count": 13,
   "id": "2365584b",
   "metadata": {},
   "outputs": [
    {
     "data": {
      "text/plain": [
       "XGBRegressor(base_score=0.5, booster='gbtree', colsample_bylevel=1,\n",
       "             colsample_bynode=1, colsample_bytree=1, enable_categorical=False,\n",
       "             gamma=1, gpu_id=-1, importance_type=None,\n",
       "             interaction_constraints='', learning_rate=0.30000012,\n",
       "             max_delta_step=0, max_depth=7, min_child_weight=1, missing=nan,\n",
       "             monotone_constraints='()', n_estimators=100, n_jobs=8,\n",
       "             num_parallel_tree=1, predictor='auto', random_state=123,\n",
       "             reg_alpha=0, reg_lambda=1, scale_pos_weight=0.3278456267435863,\n",
       "             subsample=1, tree_method='exact', validate_parameters=1,\n",
       "             verbosity=None)"
      ]
     },
     "execution_count": 13,
     "metadata": {},
     "output_type": "execute_result"
    }
   ],
   "source": [
    "\n",
    "regressor = random_search.best_estimator_\n",
    "regressor.fit(X_train, y_train)"
   ]
  },
  {
   "cell_type": "code",
   "execution_count": 14,
   "id": "affc9f11",
   "metadata": {},
   "outputs": [
    {
     "data": {
      "text/plain": [
       "0.1671404"
      ]
     },
     "execution_count": 14,
     "metadata": {},
     "output_type": "execute_result"
    }
   ],
   "source": [
    "y_pred = regressor.predict(X_test)\n",
    "mean_squared_error(y_test, y_pred)"
   ]
  },
  {
   "cell_type": "code",
   "execution_count": 15,
   "id": "9f845860",
   "metadata": {},
   "outputs": [
    {
     "name": "stdout",
     "output_type": "stream",
     "text": [
      "Accuracy: 74.92%\n"
     ]
    }
   ],
   "source": [
    "y_pred_round = [round(value) for value in y_pred]\n",
    "accuracy = accuracy_score(y_test, y_pred_round)\n",
    "print(\"Accuracy: %.2f%%\" % (accuracy * 100.0))"
   ]
  },
  {
   "cell_type": "code",
   "execution_count": 16,
   "id": "ea84d7da",
   "metadata": {},
   "outputs": [],
   "source": [
    "#EOF"
   ]
  },
  {
   "cell_type": "code",
   "execution_count": null,
   "id": "43642bf1",
   "metadata": {},
   "outputs": [],
   "source": []
  }
 ],
 "metadata": {
  "kernelspec": {
   "display_name": "DL",
   "language": "python",
   "name": "dl"
  },
  "language_info": {
   "codemirror_mode": {
    "name": "ipython",
    "version": 3
   },
   "file_extension": ".py",
   "mimetype": "text/x-python",
   "name": "python",
   "nbconvert_exporter": "python",
   "pygments_lexer": "ipython3",
   "version": "3.8.12"
  }
 },
 "nbformat": 4,
 "nbformat_minor": 5
}
