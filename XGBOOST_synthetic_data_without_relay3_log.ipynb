{
 "cells": [
  {
   "cell_type": "code",
   "execution_count": 1,
   "id": "ff536984",
   "metadata": {},
   "outputs": [],
   "source": [
    "# XGBOOST example synthtetic data > 90%"
   ]
  },
  {
   "cell_type": "code",
   "execution_count": 2,
   "id": "2c125355",
   "metadata": {},
   "outputs": [],
   "source": [
    "from xgboost import XGBClassifier\n",
    "from sklearn.model_selection import train_test_split\n",
    "from sklearn.metrics import accuracy_score\n",
    "from sklearn.metrics import mean_squared_error\n",
    "import numpy as np\n",
    "import pandas as pd\n",
    "import glob\n",
    "import xgboost as xgb\n",
    "import seaborn as sns\n"
   ]
  },
  {
   "cell_type": "code",
   "execution_count": 3,
   "id": "5bf188b5",
   "metadata": {},
   "outputs": [],
   "source": [
    "def label_marker(row):\n",
    "    if isinstance(row['marker'], str) and 'Natural' in row['marker']:\n",
    "        return 0\n",
    "    if isinstance(row['marker'], str) and 'Attack' in row['marker']:\n",
    "        return 1\n",
    "    return "
   ]
  },
  {
   "cell_type": "code",
   "execution_count": 4,
   "id": "474fff6a",
   "metadata": {},
   "outputs": [],
   "source": [
    "path = './synthetic_data/'\n",
    "\n",
    "input_df = pd.DataFrame()\n",
    "files = glob.glob(path+\"*.csv\")\n",
    "for name in files:\n",
    "    df = pd.read_csv(name) \n",
    "    input_df = pd.concat([input_df, df], ignore_index=True)\n",
    "\n",
    "input_df = input_df.replace([np.inf, -np.inf], 0)\n",
    "input_df = input_df.sample(frac=1) # we suffle the dataframe"
   ]
  },
  {
   "cell_type": "code",
   "execution_count": 5,
   "id": "7d6984fb",
   "metadata": {},
   "outputs": [],
   "source": [
    "# we delete one feature that we believe is wrong\n",
    "input_df = input_df.drop(['relay3_log'], axis=1)"
   ]
  },
  {
   "cell_type": "code",
   "execution_count": 6,
   "id": "b98700b6",
   "metadata": {},
   "outputs": [
    {
     "name": "stdout",
     "output_type": "stream",
     "text": [
      " X_train shape (1485518, 127) \n",
      " y_train shape (1485518,) \n",
      " X_test shape (371380, 127) \n",
      " y_test shape (371380,)\n"
     ]
    }
   ],
   "source": [
    "y_col = 'marker'\n",
    "X_cols = input_df.loc[:, input_df.columns != y_col].columns\n",
    "\n",
    "from sklearn.model_selection import train_test_split\n",
    "X_train, X_test, y_train, y_test = train_test_split(input_df[X_cols], input_df[y_col],test_size=0.2, \n",
    "                                                    random_state=42)\n",
    "\n",
    "print(' X_train shape',X_train.shape, '\\n', \n",
    "      'y_train shape', y_train.shape, '\\n',\n",
    "      'X_test shape',X_test.shape, '\\n', \n",
    "      'y_test shape', y_test.shape)"
   ]
  },
  {
   "cell_type": "code",
   "execution_count": 7,
   "id": "3a5db1aa",
   "metadata": {},
   "outputs": [
    {
     "name": "stdout",
     "output_type": "stream",
     "text": [
      " Number of items class 0: 367130 \n",
      " Number of items class 1: 1118388\n",
      " Imbalancing Factor:  0.32826711302338724\n"
     ]
    }
   ],
   "source": [
    "from collections import Counter\n",
    "class_counter = Counter(y_train)\n",
    "print(' Number of items class 0:', class_counter[0], '\\n',\n",
    "      'Number of items class 1:', class_counter[1])\n",
    "estimate_imbalancing = class_counter[0]/class_counter[1]\n",
    "print(' Imbalancing Factor: ',estimate_imbalancing)"
   ]
  },
  {
   "cell_type": "code",
   "execution_count": 8,
   "id": "ba60e44c",
   "metadata": {},
   "outputs": [],
   "source": [
    "from numpy import nan\n",
    "regressor = xgb.XGBRegressor(base_score=0.5, booster='gbtree', colsample_bylevel=1,\n",
    "             colsample_bynode=1, colsample_bytree=1, enable_categorical=False,\n",
    "             gamma=1, gpu_id=-1, importance_type=None,\n",
    "             interaction_constraints='', learning_rate=0.30000012,\n",
    "             max_delta_step=0, max_depth=7, min_child_weight=1, missing=nan,\n",
    "             monotone_constraints='()', n_estimators=5000, n_jobs=8,\n",
    "             num_parallel_tree=1, predictor='auto', random_state=123,\n",
    "             reg_alpha=0, reg_lambda=1, scale_pos_weight=0.3278456267435863,\n",
    "             subsample=1, tree_method='exact', validate_parameters=1,\n",
    "             verbosity=None)"
   ]
  },
  {
   "cell_type": "code",
   "execution_count": 9,
   "id": "6aace7ed",
   "metadata": {},
   "outputs": [
    {
     "data": {
      "text/plain": [
       "XGBRegressor(base_score=0.5, booster='gbtree', colsample_bylevel=1,\n",
       "             colsample_bynode=1, colsample_bytree=1, enable_categorical=False,\n",
       "             gamma=1, gpu_id=-1, importance_type=None,\n",
       "             interaction_constraints='', learning_rate=0.30000012,\n",
       "             max_delta_step=0, max_depth=7, min_child_weight=1, missing=nan,\n",
       "             monotone_constraints='()', n_estimators=5000, n_jobs=8,\n",
       "             num_parallel_tree=1, predictor='auto', random_state=123,\n",
       "             reg_alpha=0, reg_lambda=1, scale_pos_weight=0.3278456267435863,\n",
       "             subsample=1, tree_method='exact', validate_parameters=1,\n",
       "             verbosity=None)"
      ]
     },
     "execution_count": 9,
     "metadata": {},
     "output_type": "execute_result"
    }
   ],
   "source": [
    "regressor.fit(X_train, y_train,verbose=10)"
   ]
  },
  {
   "cell_type": "code",
   "execution_count": 10,
   "id": "ada38377",
   "metadata": {},
   "outputs": [
    {
     "data": {
      "text/plain": [
       "0.1606927"
      ]
     },
     "execution_count": 10,
     "metadata": {},
     "output_type": "execute_result"
    }
   ],
   "source": [
    "y_pred = regressor.predict(X_test)\n",
    "mean_squared_error(y_test, y_pred)"
   ]
  },
  {
   "cell_type": "code",
   "execution_count": 11,
   "id": "dacd1817",
   "metadata": {},
   "outputs": [
    {
     "name": "stdout",
     "output_type": "stream",
     "text": [
      "Accuracy: 76.46%\n"
     ]
    }
   ],
   "source": [
    "y_pred_round = [round(value) for value in y_pred]\n",
    "accuracy = accuracy_score(y_test, y_pred_round)\n",
    "print(\"Accuracy: %.2f%%\" % (accuracy * 100.0))"
   ]
  },
  {
   "cell_type": "code",
   "execution_count": 12,
   "id": "5726915d",
   "metadata": {},
   "outputs": [],
   "source": [
    "#EOF\n",
    "# 74.54\n",
    "# 74.46\n",
    "# 74.92\n",
    "# 76.18\n",
    "# 76.46"
   ]
  }
 ],
 "metadata": {
  "kernelspec": {
   "display_name": "DL",
   "language": "python",
   "name": "dl"
  },
  "language_info": {
   "codemirror_mode": {
    "name": "ipython",
    "version": 3
   },
   "file_extension": ".py",
   "mimetype": "text/x-python",
   "name": "python",
   "nbconvert_exporter": "python",
   "pygments_lexer": "ipython3",
   "version": "3.8.12"
  }
 },
 "nbformat": 4,
 "nbformat_minor": 5
}
